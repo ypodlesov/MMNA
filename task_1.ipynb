{
 "cells": [
  {
   "cell_type": "code",
   "execution_count": 18,
   "metadata": {},
   "outputs": [],
   "source": [
    "import numpy as np\n",
    "import scipy.linalg as la\n",
    "import scipy.integrate as integrate\n",
    "import matplotlib.pyplot as plt\n",
    "import scipy.special as sp\n",
    "\n",
    "# 1. Gram-Schmidt (Cholesky decomposition for the Gram matrix)\n",
    "def gram_schmidt_orthogonalization(n):\n",
    "    X, W = np.polynomial.legendre.leggauss(n)  # Узлы и веса Гаусса-Лежандра\n",
    "    V = np.vander(X, increasing=True)  # Матрица Вандермонда\n",
    "    G = V.T @ np.diag(W) @ V  # Взвешенная матрица Грамма\n",
    "    Q = la.cholesky(G, lower=True)  # Разложение Холецкого\n",
    "    Q_inv = la.inv(Q)  # Обратная матрица\n",
    "    ortho_polys = [np.poly1d(Q_inv[i, ::-1]) for i in range(n)]  # Ортогональные полиномы\n",
    "    return ortho_polys\n",
    "\n",
    "# 2. Recurrence relations\n",
    "def recurrence_relation(n):\n",
    "    polys = [np.poly1d([1])]\n",
    "    if n > 1:\n",
    "        polys.append(np.poly1d([1, 0]))\n",
    "    for k in range(2, n):\n",
    "        Pk = ((2*k - 1) * np.poly1d([1, 0]) * polys[k-1] - (k - 1) * polys[k-2]) / k\n",
    "        polys.append(Pk)\n",
    "    return polys\n",
    "\n",
    "# 3. Eigenvalues of the Jacobi matrix\n",
    "def jacobi_matrix_method(n):\n",
    "    beta = np.array([0.5 / np.sqrt(1 - (2*i)**-2) for i in range(1, n)])\n",
    "    J = np.diag(beta, -1) + np.diag(beta, 1)  # The Jacobi matrix\n",
    "    eigvals, eigvecs = np.linalg.eigh(J)  # Eigenvalues and vectors\n",
    "    return eigvals, eigvecs[:, 0]  # The roots and the first components are their eigen vectors"
   ]
  },
  {
   "cell_type": "code",
   "execution_count": null,
   "metadata": {},
   "outputs": [
    {
     "name": "stdout",
     "output_type": "stream",
     "text": [
      "Gram-Schmidt:\n",
      "Orthogonality: True\n",
      "\n",
      "Recurrent relations:\n",
      "Orthogonality: True\n",
      "\n",
      "Jacobi matrix (roots and vector):\n",
      "[-9.06179846e-01 -5.38469310e-01  4.75059283e-17  5.38469310e-01\n",
      "  9.06179846e-01] [-0.34418519  0.5402157  -0.56316503  0.45625322 -0.25373551]\n"
     ]
    }
   ],
   "source": [
    "# Checking the orthogonality of polynomials\n",
    "def check_orthogonality(polys, n):\n",
    "    X, W = np.polynomial.legendre.leggauss(n)  # Узлы и веса\n",
    "    V = np.array([[p(x) for p in polys] for x in X])  # Матрица значений полиномов\n",
    "    G = V.T @ np.diag(W) @ V  # Интеграл скалярного произведения\n",
    "    return np.allclose(G - np.diag(np.diag(G)), 0)  # Проверка ортогональности\n",
    "\n",
    "n = 5\n",
    "gs_polys = gram_schmidt_orthogonalization(n)\n",
    "rec_polys = recurrence_relation(n)\n",
    "jeigvals, jeigvecs = jacobi_matrix_method(n)\n",
    "\n",
    "print(\"Gram-Schmidt:\")\n",
    "# for p in gs_polys:\n",
    "#     print(p)\n",
    "print(\"Orthogonality:\", check_orthogonality(gs_polys, n))\n",
    "\n",
    "print(\"\\nRecurrent relations:\")\n",
    "# for p in rec_polys:\n",
    "#     print(p)\n",
    "print(\"Orthogonality:\", check_orthogonality(rec_polys, n))\n",
    "\n",
    "print(\"\\nJacobi matrix (roots and vector):\")\n",
    "print(jeigvals, jeigvecs)"
   ]
  }
 ],
 "metadata": {
  "kernelspec": {
   "display_name": "myenv",
   "language": "python",
   "name": "python3"
  },
  "language_info": {
   "codemirror_mode": {
    "name": "ipython",
    "version": 3
   },
   "file_extension": ".py",
   "mimetype": "text/x-python",
   "name": "python",
   "nbconvert_exporter": "python",
   "pygments_lexer": "ipython3",
   "version": "3.12.3"
  }
 },
 "nbformat": 4,
 "nbformat_minor": 2
}
